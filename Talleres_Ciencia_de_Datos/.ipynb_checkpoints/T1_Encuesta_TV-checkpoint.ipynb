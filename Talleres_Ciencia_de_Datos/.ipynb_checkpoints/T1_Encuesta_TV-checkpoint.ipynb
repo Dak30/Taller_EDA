{
 "cells": [
  {
   "cell_type": "markdown",
   "metadata": {
    "id": "uBstxqyNmM8v"
   },
   "source": [
    "# Universidad Libre - Seccional Cali<br>Facultad de Ingeniería - Diplomado en Ciencia de Datos<br>(ↄ) Diego Fernando Marin, 2024"
   ]
  },
  {
   "cell_type": "markdown",
   "metadata": {
    "id": "x3p5hgy1kixP"
   },
   "source": [
    "## Datos del Estudiante:\n",
    "\n",
    "**Código**: <br>\n",
    "**Nombre**: <br>\n",
    "**Correo**:"
   ]
  },
  {
   "cell_type": "markdown",
   "metadata": {
    "id": "qXrGxnin9e_n"
   },
   "source": [
    "# Taller #1 - Encuesta TV"
   ]
  },
  {
   "cell_type": "code",
   "execution_count": null,
   "metadata": {
    "id": "K0XMMs4aAaha"
   },
   "outputs": [],
   "source": [
    "!wget --no-verbose --output-file encuesta_tv.csv https://paste.c-net.org/RuiningApplying"
   ]
  },
  {
   "cell_type": "code",
   "execution_count": null,
   "metadata": {
    "id": "bz5XyPx-lE3P"
   },
   "outputs": [],
   "source": [
    "import pandas as pd\n",
    "import matplotlib.pyplot as plt"
   ]
  },
  {
   "cell_type": "code",
   "execution_count": null,
   "metadata": {
    "id": "WSFwnPlolTyG"
   },
   "outputs": [],
   "source": [
    "df = pd.read_csv('encuesta_tv.csv', sep='|')"
   ]
  },
  {
   "cell_type": "markdown",
   "metadata": {
    "id": "Nl8SeQSTkhOT"
   },
   "source": [
    "## 1. ¿Cuántos registros (filas) y variables (columnas) hay en el conjunto de datos?"
   ]
  },
  {
   "cell_type": "code",
   "execution_count": null,
   "metadata": {
    "id": "GmsUJqBHmVP_"
   },
   "outputs": [],
   "source": [
    "df.shape"
   ]
  },
  {
   "cell_type": "markdown",
   "metadata": {
    "id": "zdcTghs0krMY"
   },
   "source": [
    "## 2. ¿Cuáles son las variables, sus nombres y tipos?"
   ]
  },
  {
   "cell_type": "code",
   "execution_count": null,
   "metadata": {
    "id": "zmBOdzWcmVw_"
   },
   "outputs": [],
   "source": [
    "df.info()"
   ]
  },
  {
   "cell_type": "markdown",
   "metadata": {
    "id": "bH6aQeTgkt9_"
   },
   "source": [
    "## 3. Muestra las primeras 10 filas de los datos."
   ]
  },
  {
   "cell_type": "code",
   "execution_count": null,
   "metadata": {
    "id": "fW2ETE_BmWSg"
   },
   "outputs": [],
   "source": [
    "df.head(10)"
   ]
  },
  {
   "cell_type": "markdown",
   "metadata": {
    "id": "VBYI_XKukwrX"
   },
   "source": [
    "## 4. Muestra las últimas 10 filas de los datos."
   ]
  },
  {
   "cell_type": "code",
   "execution_count": null,
   "metadata": {
    "id": "Nqs5yeCdmW0o"
   },
   "outputs": [],
   "source": [
    "df.tail(10)"
   ]
  },
  {
   "cell_type": "markdown",
   "metadata": {
    "id": "a68FAkEqkyc4"
   },
   "source": [
    "## 5. ¿Cuáles son los nombres únicos de las personas encuestadas?"
   ]
  },
  {
   "cell_type": "code",
   "execution_count": null,
   "metadata": {
    "id": "QifsGfs4mYHI"
   },
   "outputs": [],
   "source": [
    "df['nombre'].unique()"
   ]
  },
  {
   "cell_type": "markdown",
   "metadata": {
    "id": "POQutQZWkz5_"
   },
   "source": [
    "## 6. ¿Cuántos canales únicos hay en la encuesta, cuáles son?"
   ]
  },
  {
   "cell_type": "code",
   "execution_count": null,
   "metadata": {
    "id": "akMU1OremYeH"
   },
   "outputs": [],
   "source": [
    "pd.concat([ df['canal_fav1'], df['canal_fav2'], df['canal_fav3'] ]).unique()"
   ]
  },
  {
   "cell_type": "markdown",
   "metadata": {
    "id": "KwSLswNXk1NP"
   },
   "source": [
    "## 7. ¿Cuál es el promedio de edad de los encuestados?"
   ]
  },
  {
   "cell_type": "code",
   "execution_count": null,
   "metadata": {
    "id": "2sFcDC1juupa"
   },
   "outputs": [],
   "source": [
    "df['edad'].mean()  # .min(), .max(), .median(), .sum(), .count(), .values_count()"
   ]
  },
  {
   "cell_type": "markdown",
   "metadata": {
    "id": "EYuAIu6Uk2wf"
   },
   "source": [
    "## 8. ¿Cuántos encuestados son hombres y cuántos son mujeres?"
   ]
  },
  {
   "cell_type": "code",
   "execution_count": null,
   "metadata": {
    "id": "Idmd5Q3ivgI6"
   },
   "outputs": [],
   "source": [
    "df['genero'].value_counts()"
   ]
  },
  {
   "cell_type": "code",
   "execution_count": null,
   "metadata": {
    "id": "fnFOCaujwP2b"
   },
   "outputs": [],
   "source": [
    "df.groupby('genero').size()"
   ]
  },
  {
   "cell_type": "markdown",
   "metadata": {
    "id": "rdFE453Sk4s_"
   },
   "source": [
    "## 9. Muestra los nombres de los hombres mayores de edad."
   ]
  },
  {
   "cell_type": "code",
   "execution_count": null,
   "metadata": {
    "id": "LmHvtpLoxAnF"
   },
   "outputs": [],
   "source": [
    "filtro = (df['genero'] == 'M') & (df['edad'] >= 18)\n",
    "df[filtro]['nombre']"
   ]
  },
  {
   "cell_type": "code",
   "execution_count": null,
   "metadata": {
    "id": "TrgsQ1XfyZr7"
   },
   "outputs": [],
   "source": [
    "# Esto es lo que NO se debe hacer, no es optimo! obliga a usar filas:\n",
    "for index, datos in df[['nombre', 'genero', 'edad']].iterrows():\n",
    "    if datos.genero == 'M' and datos.edad >= 18:\n",
    "        print(datos.nombre)"
   ]
  },
  {
   "cell_type": "markdown",
   "metadata": {
    "id": "pKOVs90Hk5un"
   },
   "source": [
    "## 10. ¿Cuáles son los 3 canales de TV favoritos más comunes entre los encuestados?"
   ]
  },
  {
   "cell_type": "code",
   "execution_count": null,
   "metadata": {
    "id": "tRdpVxFkyW-t"
   },
   "outputs": [],
   "source": [
    "pd.concat([df['canal_fav1'], df['canal_fav2'], df['canal_fav3']]).value_counts().head(3)"
   ]
  },
  {
   "cell_type": "markdown",
   "metadata": {
    "id": "sEcGewZBk9xw"
   },
   "source": [
    "## 11. ¿Cuál es el canal de TV favorito más popular entre los hombres y cuál entre las mujeres?"
   ]
  },
  {
   "cell_type": "code",
   "execution_count": null,
   "metadata": {
    "id": "hlYzhiJA2Fir"
   },
   "outputs": [],
   "source": [
    "# df.groupby('genero')['canal_fav1'].value_counts()"
   ]
  },
  {
   "cell_type": "markdown",
   "metadata": {
    "id": "TiupiHO1k-_P"
   },
   "source": [
    "## 12. ¿Hay alguna relación entre la edad y las horas promedio de consumo de TV?"
   ]
  },
  {
   "cell_type": "code",
   "execution_count": null,
   "metadata": {
    "id": "7jZX6nJD6VWX"
   },
   "outputs": [],
   "source": []
  },
  {
   "cell_type": "markdown",
   "metadata": {
    "id": "KeKyulQUlADX"
   },
   "source": [
    "## 13. ¿Cuál es el costo promedio mensual de suscripciones a canales de TV entre los encuestados?"
   ]
  },
  {
   "cell_type": "code",
   "execution_count": null,
   "metadata": {
    "id": "anPiEB7v6WOE"
   },
   "outputs": [],
   "source": []
  },
  {
   "cell_type": "markdown",
   "metadata": {
    "id": "eJC-i6KxlBJK"
   },
   "source": [
    "## 14. ¿Cuál es el encuestado más joven y cuál el de mayor edad?\n"
   ]
  },
  {
   "cell_type": "code",
   "execution_count": null,
   "metadata": {
    "id": "GFyc0_jV6W6V"
   },
   "outputs": [],
   "source": []
  },
  {
   "cell_type": "markdown",
   "metadata": {
    "id": "2zZpqvvplCLH"
   },
   "source": [
    "## 15. Crea un gráfico de barras que muestre la distribución de edades de los encuestados."
   ]
  },
  {
   "cell_type": "code",
   "execution_count": null,
   "metadata": {
    "id": "pvS1de7e6Xax"
   },
   "outputs": [],
   "source": []
  },
  {
   "cell_type": "markdown",
   "metadata": {
    "id": "6SJm7JX8llkY"
   },
   "source": [
    "## 16. Crea un gráfico de pie que muestre la distribución de géneros entre los encuestados."
   ]
  },
  {
   "cell_type": "code",
   "execution_count": null,
   "metadata": {
    "id": "sXZj20jT6YIe"
   },
   "outputs": [],
   "source": []
  },
  {
   "cell_type": "markdown",
   "metadata": {
    "id": "lLewUGMglmsn"
   },
   "source": [
    "## 17. Crea un gráfico de barras apiladas que muestre los 3 canales de TV favoritos por género."
   ]
  },
  {
   "cell_type": "code",
   "execution_count": null,
   "metadata": {
    "id": "DU6fnkdU6Y2T"
   },
   "outputs": [],
   "source": []
  },
  {
   "cell_type": "markdown",
   "metadata": {
    "id": "oaOVYuMAlnuv"
   },
   "source": [
    "## 18.  Crea un gráfico de dispersión que muestre la relación entre edad y horas de consumo de TV."
   ]
  },
  {
   "cell_type": "code",
   "execution_count": null,
   "metadata": {
    "id": "xTu6WV3T6Zi8"
   },
   "outputs": [],
   "source": []
  },
  {
   "cell_type": "markdown",
   "metadata": {
    "id": "anVgJ85zlo5H"
   },
   "source": [
    "## 19. Identifica y grafica los 5 encuestados que pagan el mayor costo mensual por suscripciones."
   ]
  },
  {
   "cell_type": "code",
   "execution_count": null,
   "metadata": {
    "id": "jYQ5lvqE6aYd"
   },
   "outputs": [],
   "source": []
  },
  {
   "cell_type": "markdown",
   "metadata": {
    "id": "FgQMjujXlqig"
   },
   "source": [
    "## 20. Calcula y grafica el costo promedio mensual de suscripciones por grupo de edad (por ejemplo, 10-20, 21-30, etc)."
   ]
  },
  {
   "cell_type": "code",
   "execution_count": null,
   "metadata": {
    "id": "z5JnTFhf6bN2"
   },
   "outputs": [],
   "source": []
  },
  {
   "cell_type": "markdown",
   "metadata": {
    "id": "YA3LSrBXlr_Q"
   },
   "source": [
    "## 21. Analiza si hay diferencias significativas en el costo mensual de suscripciones entre hombres y mujeres.\n"
   ]
  },
  {
   "cell_type": "code",
   "execution_count": null,
   "metadata": {
    "id": "OFeUviwY6bwf"
   },
   "outputs": [],
   "source": []
  },
  {
   "cell_type": "markdown",
   "metadata": {
    "id": "SyxeVu-OlszP"
   },
   "source": [
    "## 22. Identifica y grafica los 3 canales de TV más populares entre los encuestados de 30 años o más.\n"
   ]
  },
  {
   "cell_type": "code",
   "execution_count": null,
   "metadata": {
    "id": "KP5EHDfd6cdT"
   },
   "outputs": [],
   "source": []
  },
  {
   "cell_type": "markdown",
   "metadata": {
    "id": "pNalzjhpltjg"
   },
   "source": [
    "## 23. Crea un gráfico de barras horizontal que muestre los 5 encuestados con mayor número de horas de consumo de TV."
   ]
  },
  {
   "cell_type": "code",
   "execution_count": null,
   "metadata": {
    "id": "VMD9HbA86dKW"
   },
   "outputs": [],
   "source": []
  },
  {
   "cell_type": "markdown",
   "metadata": {
    "id": "owQemEPtlu3Y"
   },
   "source": [
    "## 24. Analiza si hay alguna relación entre el género y los canales de TV favoritos.\n"
   ]
  },
  {
   "cell_type": "code",
   "execution_count": null,
   "metadata": {
    "id": "BirDdZS-6dyc"
   },
   "outputs": [],
   "source": []
  },
  {
   "cell_type": "markdown",
   "metadata": {
    "id": "p0DrZRPclwIA"
   },
   "source": [
    "## 25. Identifica posibles outliers en los datos (por ejemplo, en horas de consumo o costo mensual) y analiza su impacto en los resultados.\n"
   ]
  },
  {
   "cell_type": "code",
   "execution_count": null,
   "metadata": {
    "id": "yQgi5YYHjva_"
   },
   "outputs": [],
   "source": []
  }
 ],
 "metadata": {
  "colab": {
   "provenance": []
  },
  "kernelspec": {
   "display_name": "Python 3 (ipykernel)",
   "language": "python",
   "name": "python3"
  },
  "language_info": {
   "codemirror_mode": {
    "name": "ipython",
    "version": 3
   },
   "file_extension": ".py",
   "mimetype": "text/x-python",
   "name": "python",
   "nbconvert_exporter": "python",
   "pygments_lexer": "ipython3",
   "version": "3.12.2"
  }
 },
 "nbformat": 4,
 "nbformat_minor": 4
}
