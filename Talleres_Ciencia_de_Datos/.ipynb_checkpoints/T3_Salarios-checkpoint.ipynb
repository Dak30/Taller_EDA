{
 "cells": [
  {
   "cell_type": "markdown",
   "metadata": {
    "id": "G2GaxBPgnskf"
   },
   "source": [
    "# Universidad Libre - Seccional Cali<br>Facultad de Ingeniería - Diplomado en Ciencia de Datos<br>(ↄ) Diego Fernando Marin, 2024"
   ]
  },
  {
   "cell_type": "markdown",
   "metadata": {
    "id": "TLAZB74unvOg"
   },
   "source": [
    "## Datos del Estudiante:\n",
    "\n",
    "**Código**: <br>\n",
    "**Nombre**: <br>\n",
    "**Correo**:"
   ]
  },
  {
   "cell_type": "markdown",
   "metadata": {
    "id": "J46VS205nyUu"
   },
   "source": [
    "# Taller #3 - Salarios"
   ]
  },
  {
   "cell_type": "code",
   "execution_count": null,
   "metadata": {
    "colab": {
     "base_uri": "https://localhost:8080/"
    },
    "id": "E8okgxwNnPMg",
    "outputId": "ad382546-9bb5-4853-b4e5-ef90fda09f64"
   },
   "outputs": [],
   "source": [
    "!wget --no-verbose -O salarios.csv https://paste.c-net.org/ClothesLinen"
   ]
  },
  {
   "cell_type": "code",
   "execution_count": null,
   "metadata": {
    "id": "VbbQnTirpU8p"
   },
   "outputs": [],
   "source": [
    "import pandas as pd"
   ]
  },
  {
   "cell_type": "code",
   "execution_count": null,
   "metadata": {
    "id": "sBklocUopNgJ"
   },
   "outputs": [],
   "source": [
    "df = pd.read_csv('salarios.csv', sep='|', encoding='latin1')"
   ]
  },
  {
   "cell_type": "code",
   "execution_count": null,
   "metadata": {
    "colab": {
     "base_uri": "https://localhost:8080/"
    },
    "id": "PJeC8bqiv3U7",
    "outputId": "ff090f80-a977-4c31-bdd5-9b8fc50fac28"
   },
   "outputs": [],
   "source": [
    "df.columns"
   ]
  },
  {
   "cell_type": "code",
   "execution_count": null,
   "metadata": {
    "colab": {
     "base_uri": "https://localhost:8080/",
     "height": 423
    },
    "id": "IIWiSDRQv_OZ",
    "outputId": "f43dac7d-1758-463a-ee90-381c69081327"
   },
   "outputs": [],
   "source": [
    "df"
   ]
  },
  {
   "cell_type": "code",
   "execution_count": null,
   "metadata": {
    "colab": {
     "base_uri": "https://localhost:8080/"
    },
    "id": "r8-6V2sXu7K3",
    "outputId": "d11c0f39-31ad-4935-9137-9d0028a4ca03"
   },
   "outputs": [],
   "source": [
    "df.departamento.unique()"
   ]
  },
  {
   "cell_type": "code",
   "execution_count": null,
   "metadata": {
    "id": "n_rUZv1FphqJ"
   },
   "outputs": [],
   "source": [
    "# https://www.geeksforgeeks.org/data-normalization-with-pandas/\n",
    "df['normalizado'] = (df['valor'] - df['valor'].min()) / (df['valor'].max() - df['valor'].min())"
   ]
  },
  {
   "cell_type": "code",
   "execution_count": null,
   "metadata": {
    "colab": {
     "base_uri": "https://localhost:8080/",
     "height": 269
    },
    "id": "PWzvuwlRplDI",
    "outputId": "56cec24a-5d1b-4129-8c0e-3ae35c245351"
   },
   "outputs": [],
   "source": [
    "df"
   ]
  },
  {
   "cell_type": "code",
   "execution_count": null,
   "metadata": {
    "colab": {
     "base_uri": "https://localhost:8080/",
     "height": 175
    },
    "id": "E-hq9acUrQrp",
    "outputId": "d44d8df2-dce3-4360-96c0-f1da117fdce2"
   },
   "outputs": [],
   "source": [
    "df = pd.DataFrame({\n",
    "    'Producto': ['A', 'A', 'B', 'B'],\n",
    "    'Enero': [10, 15, 20, 25],\n",
    "    'Febrero': [12, 18, 22, 28],\n",
    "    'Marzo': [2, 1, 2, 3],\n",
    "})\n",
    "df"
   ]
  },
  {
   "cell_type": "code",
   "execution_count": null,
   "metadata": {
    "colab": {
     "base_uri": "https://localhost:8080/",
     "height": 425
    },
    "id": "IXKvp5X8rct9",
    "outputId": "503c5368-507c-4d2e-eae3-20e0d9d4824c"
   },
   "outputs": [],
   "source": [
    "df2 = df.melt(id_vars='Producto', var_name='Mes', value_name='Ventas')\n",
    "df2"
   ]
  }
 ],
 "metadata": {
  "colab": {
   "provenance": []
  },
  "kernelspec": {
   "display_name": "Python 3 (ipykernel)",
   "language": "python",
   "name": "python3"
  },
  "language_info": {
   "codemirror_mode": {
    "name": "ipython",
    "version": 3
   },
   "file_extension": ".py",
   "mimetype": "text/x-python",
   "name": "python",
   "nbconvert_exporter": "python",
   "pygments_lexer": "ipython3",
   "version": "3.12.2"
  }
 },
 "nbformat": 4,
 "nbformat_minor": 4
}
