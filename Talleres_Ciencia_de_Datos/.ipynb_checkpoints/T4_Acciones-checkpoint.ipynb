{
 "cells": [
  {
   "cell_type": "markdown",
   "metadata": {
    "id": "MJb2fS1yBwZ2"
   },
   "source": [
    "# Universidad Libre - Seccional Cali<br>Facultad de Ingeniería - Diplomado en Ciencia de Datos<br>(ↄ) Diego Fernando Marin, 2024"
   ]
  },
  {
   "cell_type": "markdown",
   "metadata": {
    "id": "XSWCWKAjB0Nh"
   },
   "source": [
    "## Datos del Estudiante:\n",
    "\n",
    "**Código**: <br>\n",
    "**Nombre**: <br>\n",
    "**Correo**:"
   ]
  },
  {
   "cell_type": "markdown",
   "metadata": {
    "id": "BZwmoRC4B06n"
   },
   "source": [
    "# Taller #4 - Acciones"
   ]
  },
  {
   "cell_type": "code",
   "execution_count": null,
   "metadata": {
    "id": "WGaQbSD7qv1e"
   },
   "outputs": [],
   "source": [
    "import numpy as np\n",
    "import pandas as pd\n",
    "import yfinance as yf\n",
    "import matplotlib.pyplot as plt\n",
    "import seaborn as sns"
   ]
  },
  {
   "cell_type": "markdown",
   "metadata": {
    "id": "mnNvNJamrIrz"
   },
   "source": [
    "### Cómo se usa la librería **YFinance**?"
   ]
  },
  {
   "cell_type": "markdown",
   "metadata": {
    "id": "G_VQP4vSDwsz"
   },
   "source": [
    "La librería *YFinance* permite crear un objeto `Ticker` para cada símbolo (empresa) que queremos consultar, en este ejemplo el simbolo es `MSFT` que corresponde a la empresa **Microsoft**:"
   ]
  },
  {
   "cell_type": "code",
   "execution_count": null,
   "metadata": {
    "id": "vLaoCRFRrNvj"
   },
   "outputs": [],
   "source": [
    "msft = yf.Ticker(\"MSFT\")"
   ]
  },
  {
   "cell_type": "markdown",
   "metadata": {
    "id": "70sm50LEEAYM"
   },
   "source": [
    "Este objeto `msft` (clase `Ticker`) tiene un atributo `.info` con todos los datos de la empresa:"
   ]
  },
  {
   "cell_type": "code",
   "execution_count": null,
   "metadata": {
    "id": "ha93zqdP1gtA"
   },
   "outputs": [],
   "source": [
    "msft.info"
   ]
  },
  {
   "cell_type": "markdown",
   "metadata": {
    "id": "ytmhbj3KEKCC"
   },
   "source": [
    "Usamos el objeto `msft` para consultar la historia del precios de las acciones, `period` representa cuánto tiempo, e `interval` con qué frecuencia. En este ejemplo vamos a descargar 1 año de datos (`1y`) con datos diarios (`1d`). También se puede específicar una fecha de inicio con `start`:\n"
   ]
  },
  {
   "cell_type": "code",
   "execution_count": null,
   "metadata": {
    "id": "GhnUrUxR1hTh"
   },
   "outputs": [],
   "source": [
    "df = msft.history(period='1y', interval='1d')"
   ]
  },
  {
   "cell_type": "markdown",
   "metadata": {
    "id": "OLUoo7B4Efnm"
   },
   "source": [
    "Ahora ya tenemos un `dataframe` con todos los datos históricos:"
   ]
  },
  {
   "cell_type": "code",
   "execution_count": null,
   "metadata": {
    "id": "AGlY7szT5O2p"
   },
   "outputs": [],
   "source": [
    "df.head()"
   ]
  },
  {
   "cell_type": "markdown",
   "metadata": {
    "id": "ctqbH1HdCgnx"
   },
   "source": [
    "## 1. Descarga los datos históricos de las últimas 52 semanas para 5 símbolos (empresas) diferentes. Muestra las primeras 5 filas de cada DataFrame."
   ]
  },
  {
   "cell_type": "code",
   "execution_count": null,
   "metadata": {
    "id": "XzL_0ebSCoEt"
   },
   "outputs": [],
   "source": []
  },
  {
   "cell_type": "markdown",
   "metadata": {
    "id": "hxQGejX1CoTd"
   },
   "source": [
    "## 2. Calcula el retorno diario para cada acción. El retorno diario es el cambio porcentual en el precio de cierre de un día al siguiente."
   ]
  },
  {
   "cell_type": "code",
   "execution_count": null,
   "metadata": {
    "id": "-F_u2VHgCq10"
   },
   "outputs": [],
   "source": []
  },
  {
   "cell_type": "markdown",
   "metadata": {
    "id": "5Yk7LM3BCrMW"
   },
   "source": [
    "## 3. ¿Cuál de las 5 acciones ha tenido el mayor retorno acumulado en el último año? El retorno acumulado se calcula multiplicando (1 + retorno diario) para todos los días y restando 1 al final."
   ]
  },
  {
   "cell_type": "code",
   "execution_count": null,
   "metadata": {
    "id": "ojLgYoB7Cs5l"
   },
   "outputs": [],
   "source": []
  },
  {
   "cell_type": "markdown",
   "metadata": {
    "id": "pqiMIu9uCtJF"
   },
   "source": [
    "## 4. Calcula la volatilidad anualizada de cada acción. La volatilidad es una medida de la variabilidad de los retornos y se calcula como la desviación estándar de los retornos diarios multiplicada por la raíz cuadrada del número de días de trading en un año (normalmente 252)."
   ]
  },
  {
   "cell_type": "code",
   "execution_count": null,
   "metadata": {
    "id": "o34TP2TSCvqE"
   },
   "outputs": [],
   "source": []
  },
  {
   "cell_type": "markdown",
   "metadata": {
    "id": "pKWg62yRCwZb"
   },
   "source": [
    "## 5. Crea un gráfico de líneas que muestre la evolución del precio de cierre de las 5 acciones en el último año. Normaliza los precios al valor inicial para una comparación más fácil."
   ]
  },
  {
   "cell_type": "code",
   "execution_count": null,
   "metadata": {
    "id": "g3I9TNEnCx9b"
   },
   "outputs": [],
   "source": []
  },
  {
   "cell_type": "markdown",
   "metadata": {
    "id": "phsIeIS5CyIH"
   },
   "source": [
    "## 6. Calcula el promedio móvil de 20 días para el precio de cierre de cada acción. El promedio móvil es un indicador que suaviza las fluctuaciones de precios y puede ayudar a identificar tendencias."
   ]
  },
  {
   "cell_type": "code",
   "execution_count": null,
   "metadata": {
    "id": "C_KkYAPwCz8x"
   },
   "outputs": [],
   "source": []
  },
  {
   "cell_type": "markdown",
   "metadata": {
    "id": "Pw49xj_GC0I5"
   },
   "source": [
    "## 7. Identifica los días en que el precio de cierre de *empresa* cruzó por encima de su promedio móvil de 50 días. Este cruce a menudo se considera una señal alcista."
   ]
  },
  {
   "cell_type": "code",
   "execution_count": null,
   "metadata": {
    "id": "53gE9T4BC8p0"
   },
   "outputs": [],
   "source": []
  },
  {
   "cell_type": "markdown",
   "metadata": {
    "id": "rFrRmx8mC8_D"
   },
   "source": [
    "## 8. Calcula el indicador de fuerza relativa (RSI) de 14 días para _empresa_. El RSI es un oscilador que mide la velocidad y el cambio de los movimientos de precios, y se usa para identificar condiciones de sobrecompra o sobreventa."
   ]
  },
  {
   "cell_type": "code",
   "execution_count": null,
   "metadata": {
    "id": "dZEQVcaNDNv3"
   },
   "outputs": [],
   "source": []
  },
  {
   "cell_type": "markdown",
   "metadata": {
    "id": "uUeW6873DN7U"
   },
   "source": [
    "## 9. Encuentra la correlación entre los retornos diarios de _empresa1_ y _empresa2_. La correlación mide cómo se mueven dos activos en relación el uno con el otro."
   ]
  },
  {
   "cell_type": "code",
   "execution_count": null,
   "metadata": {
    "id": "__6iZmt0DSHK"
   },
   "outputs": [],
   "source": []
  },
  {
   "cell_type": "markdown",
   "metadata": {
    "id": "uFX-1jafDSUU"
   },
   "source": [
    "## 10. Calcula el índice de Sharpe anualizado para cada acción, asumiendo una tasa libre de riesgo del 2% anual. El índice de Sharpe mide el rendimiento ajustado por riesgo de un activo."
   ]
  },
  {
   "cell_type": "code",
   "execution_count": null,
   "metadata": {
    "id": "Ai-pi1SYDUFg"
   },
   "outputs": [],
   "source": []
  },
  {
   "cell_type": "markdown",
   "metadata": {
    "id": "G8uvT7U4DUXM"
   },
   "source": [
    "## 11. Implementa una estrategia simple de cruce de medias móviles para _empresa_, usando medias de 50 y 200 días. Compra cuando la media corta cruza por encima de la larga, y vende en el caso contrario."
   ]
  },
  {
   "cell_type": "code",
   "execution_count": null,
   "metadata": {
    "id": "7ZqzuVUADXJL"
   },
   "outputs": [],
   "source": []
  },
  {
   "cell_type": "markdown",
   "metadata": {
    "id": "MO3zxsKiDXeB"
   },
   "source": [
    "## 12. Calcula el drawdown máximo para cada acción en el último año. El drawdown mide la caída desde un pico hasta un valle y es un indicador de riesgo."
   ]
  },
  {
   "cell_type": "code",
   "execution_count": null,
   "metadata": {
    "id": "349wKe0NDY_b"
   },
   "outputs": [],
   "source": []
  },
  {
   "cell_type": "markdown",
   "metadata": {
    "id": "WVcQTq74DZKG"
   },
   "source": [
    "## 13. Crea un gráfico de velas (candlestick) para los últimos 30 días de trading de _empresa_, incluyendo el volumen de negociación."
   ]
  },
  {
   "cell_type": "code",
   "execution_count": null,
   "metadata": {
    "id": "jMMyldkHDbSd"
   },
   "outputs": [],
   "source": []
  },
  {
   "cell_type": "markdown",
   "metadata": {
    "id": "eg4ggU2UDbeA"
   },
   "source": [
    "## 14. Calcula el beta de cada acción con respecto al índice S&P 500 (puedes usar el ETF SPY como proxy). El beta mide la sensibilidad de un activo a los movimientos del mercado en general."
   ]
  },
  {
   "cell_type": "code",
   "execution_count": null,
   "metadata": {
    "id": "i53_AQVlDd89"
   },
   "outputs": [],
   "source": []
  },
  {
   "cell_type": "markdown",
   "metadata": {
    "id": "CeaqSYJYDeHK"
   },
   "source": [
    "## 15. Implementa el indicador MACD (Moving Average Convergence Divergence) para _empresa_ y visualízalo junto con el precio de cierre. El MACD es un indicador de tendencia que muestra la relación entre dos promedios móviles de los precios."
   ]
  },
  {
   "cell_type": "code",
   "execution_count": null,
   "metadata": {
    "id": "1X99dfdSDgRT"
   },
   "outputs": [],
   "source": []
  }
 ],
 "metadata": {
  "colab": {
   "provenance": []
  },
  "kernelspec": {
   "display_name": "Python 3 (ipykernel)",
   "language": "python",
   "name": "python3"
  },
  "language_info": {
   "codemirror_mode": {
    "name": "ipython",
    "version": 3
   },
   "file_extension": ".py",
   "mimetype": "text/x-python",
   "name": "python",
   "nbconvert_exporter": "python",
   "pygments_lexer": "ipython3",
   "version": "3.12.2"
  }
 },
 "nbformat": 4,
 "nbformat_minor": 4
}
