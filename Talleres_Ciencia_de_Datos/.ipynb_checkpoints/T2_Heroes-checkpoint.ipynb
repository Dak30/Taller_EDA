{
 "cells": [
  {
   "cell_type": "markdown",
   "metadata": {
    "id": "SNrIVzp4lm9p"
   },
   "source": [
    "# Universidad Libre - Seccional Cali<br>Facultad de Ingeniería - Diplomado en Ciencia de Datos<br>(ↄ) Diego Fernando Marin, 2024"
   ]
  },
  {
   "cell_type": "markdown",
   "metadata": {
    "id": "VFUc3fVX-XfP"
   },
   "source": [
    "## Datos del Estudiante:\n",
    "\n",
    "**Código**: <br>\n",
    "**Nombre**: <br>\n",
    "**Correo**:"
   ]
  },
  {
   "cell_type": "markdown",
   "metadata": {
    "id": "TC6iXy8f-YAT"
   },
   "source": [
    "# Taller #2 - Heroes"
   ]
  },
  {
   "cell_type": "code",
   "execution_count": null,
   "metadata": {
    "id": "BGRA_h5IlP72"
   },
   "outputs": [],
   "source": [
    "!wget --no-verbose --output-file heroes.csv https://paste.c-net.org/TestedRenewal"
   ]
  },
  {
   "cell_type": "code",
   "execution_count": null,
   "metadata": {
    "id": "uo6bQ8Jz-h4F"
   },
   "outputs": [],
   "source": [
    "import pandas as pd\n",
    "import matplotlib.pyplot as plt"
   ]
  },
  {
   "cell_type": "code",
   "execution_count": null,
   "metadata": {
    "id": "pYu8ZgZHnIfJ"
   },
   "outputs": [],
   "source": [
    "df = pd.read_csv('heroes.csv', sep=';')"
   ]
  },
  {
   "cell_type": "markdown",
   "metadata": {
    "id": "x8B0ZdQ7-pcA"
   },
   "source": [
    "## 1. ¿Cuántas filas y columnas tiene el DataFrame?"
   ]
  },
  {
   "cell_type": "code",
   "execution_count": null,
   "metadata": {
    "colab": {
     "base_uri": "https://localhost:8080/"
    },
    "id": "iGxzRlStBJC9",
    "outputId": "29971524-b03e-4be8-c644-9787928f5965"
   },
   "outputs": [],
   "source": [
    "df.shape"
   ]
  },
  {
   "cell_type": "markdown",
   "metadata": {
    "id": "oedfVbTJ_N5A"
   },
   "source": [
    "## 2. Muestra los nombres de todas las columnas del DataFrame."
   ]
  },
  {
   "cell_type": "code",
   "execution_count": null,
   "metadata": {
    "colab": {
     "base_uri": "https://localhost:8080/"
    },
    "id": "7MrNX0zBBKXG",
    "outputId": "d78982a1-0528-4869-e88a-df401067a6dc"
   },
   "outputs": [],
   "source": [
    "df.columns"
   ]
  },
  {
   "cell_type": "markdown",
   "metadata": {
    "id": "jL3GoXEk_O9e"
   },
   "source": [
    "## 3. ¿Cuál es el tipo de dato de cada columna?"
   ]
  },
  {
   "cell_type": "code",
   "execution_count": null,
   "metadata": {
    "colab": {
     "base_uri": "https://localhost:8080/"
    },
    "id": "jF6vqb2mBK9V",
    "outputId": "bd1ac10e-4a6a-4bfc-d95b-79814e68c907"
   },
   "outputs": [],
   "source": [
    "df.info()"
   ]
  },
  {
   "cell_type": "markdown",
   "metadata": {
    "id": "tovnwoGr_Pzu"
   },
   "source": [
    "## 4. ¿Cuántos superhéroes únicos hay en el dataset?"
   ]
  },
  {
   "cell_type": "code",
   "execution_count": null,
   "metadata": {
    "id": "C7oO5upSBLsN"
   },
   "outputs": [],
   "source": []
  },
  {
   "cell_type": "markdown",
   "metadata": {
    "id": "5Bx3NRuu_Qwn"
   },
   "source": [
    "## 5. ¿Cuál es la altura promedio de los superhéroes?"
   ]
  },
  {
   "cell_type": "code",
   "execution_count": null,
   "metadata": {
    "id": "0tpbd0O4BMds"
   },
   "outputs": [],
   "source": []
  },
  {
   "cell_type": "markdown",
   "metadata": {
    "id": "63snfXN7_Rfn"
   },
   "source": [
    "## 6. ¿Cuál es el superhéroe más pesado?"
   ]
  },
  {
   "cell_type": "code",
   "execution_count": null,
   "metadata": {
    "id": "gmU4r3YdBNKw"
   },
   "outputs": [],
   "source": []
  },
  {
   "cell_type": "markdown",
   "metadata": {
    "id": "bocXtsXs_S1I"
   },
   "source": [
    "## 7. ¿Cuántos superhéroes son de género masculino y cuántos de género femenino?"
   ]
  },
  {
   "cell_type": "code",
   "execution_count": null,
   "metadata": {
    "id": "ioGnGdwbBNsm"
   },
   "outputs": [],
   "source": []
  },
  {
   "cell_type": "markdown",
   "metadata": {
    "id": "YVdmHGa9_Tsn"
   },
   "source": [
    "## 8. ¿Cuál es el color de ojos más común entre los superhéroes?"
   ]
  },
  {
   "cell_type": "code",
   "execution_count": null,
   "metadata": {
    "id": "s0vftLNRBObv"
   },
   "outputs": [],
   "source": []
  },
  {
   "cell_type": "markdown",
   "metadata": {
    "id": "0lndHMY4_Uf5"
   },
   "source": [
    "## 9. Crea un gráfico de barras que muestre la distribución de los colores de cabello."
   ]
  },
  {
   "cell_type": "code",
   "execution_count": null,
   "metadata": {
    "id": "_f9bE2PRBPFq"
   },
   "outputs": [],
   "source": []
  },
  {
   "cell_type": "markdown",
   "metadata": {
    "id": "TtuklYbR_WR-"
   },
   "source": [
    "## 10. ¿Cuál es la mediana de la fuerza de los superhéroes?"
   ]
  },
  {
   "cell_type": "code",
   "execution_count": null,
   "metadata": {
    "id": "3tGAa6OeBPxL"
   },
   "outputs": [],
   "source": []
  },
  {
   "cell_type": "markdown",
   "metadata": {
    "id": "IaxdMbdC_XFZ"
   },
   "source": [
    "## 11. Crea una nueva columna llamada 'BMI' que calcule el índice de masa corporal de los superhéroes."
   ]
  },
  {
   "cell_type": "code",
   "execution_count": null,
   "metadata": {
    "id": "7tDdeAlCBQTh"
   },
   "outputs": [],
   "source": []
  },
  {
   "cell_type": "markdown",
   "metadata": {
    "id": "Y0mxSSmu_YTJ"
   },
   "source": [
    "## 12. ¿Existe alguna correlación entre la altura y el peso de los superhéroes? Visualízalo con un gráfico de dispersión."
   ]
  },
  {
   "cell_type": "code",
   "execution_count": null,
   "metadata": {
    "id": "1DYxLptLBV7y"
   },
   "outputs": [],
   "source": []
  },
  {
   "cell_type": "markdown",
   "metadata": {
    "id": "Bn3c4AO6_ZRo"
   },
   "source": [
    "## 13. Agrupa los superhéroes por editorial (Publisher) y calcula la altura promedio para cada grupo."
   ]
  },
  {
   "cell_type": "code",
   "execution_count": null,
   "metadata": {
    "id": "UCvcvYixBWjA"
   },
   "outputs": [],
   "source": []
  },
  {
   "cell_type": "markdown",
   "metadata": {
    "id": "1QMpjjH8_aHS"
   },
   "source": [
    "## 14. ¿En qué año apareció por primera vez el superhéroe más antiguo del dataset?"
   ]
  },
  {
   "cell_type": "code",
   "execution_count": null,
   "metadata": {
    "id": "Q5hm8ye4BXXZ"
   },
   "outputs": [],
   "source": []
  },
  {
   "cell_type": "markdown",
   "metadata": {
    "id": "ileP5Z2V_bSj"
   },
   "source": [
    "## 15. Crea un gráfico de caja (boxplot) para visualizar la distribución de la inteligencia de los superhéroes."
   ]
  },
  {
   "cell_type": "code",
   "execution_count": null,
   "metadata": {
    "id": "_p_T7SP1BX3G"
   },
   "outputs": [],
   "source": []
  },
  {
   "cell_type": "markdown",
   "metadata": {
    "id": "AOICCTa6_cYE"
   },
   "source": [
    "## 16. Realiza un análisis de valores faltantes en el dataset. ¿Qué columnas tienen más valores faltantes?"
   ]
  },
  {
   "cell_type": "code",
   "execution_count": null,
   "metadata": {
    "id": "U8613O8fBYhr"
   },
   "outputs": [],
   "source": []
  },
  {
   "cell_type": "markdown",
   "metadata": {
    "id": "ajkdOP7s_dpV"
   },
   "source": [
    "## 17. Crea una función que categorice la fuerza de los superhéroes en 'Baja', 'Media' y 'Alta' basándote en los percentiles 33 y 66."
   ]
  },
  {
   "cell_type": "code",
   "execution_count": null,
   "metadata": {
    "id": "sFKoAK2bBZGR"
   },
   "outputs": [],
   "source": []
  },
  {
   "cell_type": "markdown",
   "metadata": {
    "id": "W5JuYKkZ_e9_"
   },
   "source": [
    "## 18. Genera un heatmap que muestre la correlación entre las variables numéricas del dataset."
   ]
  },
  {
   "cell_type": "code",
   "execution_count": null,
   "metadata": {
    "id": "1_UwiBSJBbCP"
   },
   "outputs": [],
   "source": []
  },
  {
   "cell_type": "markdown",
   "metadata": {
    "id": "kLB1o9Ff_gFT"
   },
   "source": [
    "## 19. ¿Existe alguna relación entre el color de ojos y la fuerza de los superhéroes? Visualízalo con un gráfico apropiado."
   ]
  },
  {
   "cell_type": "code",
   "execution_count": null,
   "metadata": {
    "id": "8adEWhgFBbiQ"
   },
   "outputs": [],
   "source": []
  },
  {
   "cell_type": "markdown",
   "metadata": {
    "id": "bWkYXVRO_hS0"
   },
   "source": [
    "## 20. Crea un gráfico de violín que compare la distribución de alturas entre superhéroes masculinos y femeninos."
   ]
  },
  {
   "cell_type": "code",
   "execution_count": null,
   "metadata": {
    "id": "F6uAqWd4BcSc"
   },
   "outputs": [],
   "source": []
  },
  {
   "cell_type": "markdown",
   "metadata": {
    "id": "41oNS0BJ_iYD"
   },
   "source": [
    "## 21. Utiliza la función `pd.melt()` para reestructurar el DataFrame, colocando las características (fuerza, inteligencia, etc.) en una sola columna. Luego, crea un gráfico que compare estas características entre los 5 superhéroes más altos."
   ]
  },
  {
   "cell_type": "code",
   "execution_count": null,
   "metadata": {
    "id": "5KqeFmtGBc0i"
   },
   "outputs": [],
   "source": []
  },
  {
   "cell_type": "code",
   "execution_count": null,
   "metadata": {
    "id": "vqIxX-g5tFYu"
   },
   "outputs": [],
   "source": []
  },
  {
   "cell_type": "markdown",
   "metadata": {
    "id": "8RotqvCS_kaZ"
   },
   "source": [
    "## 22. Implementa una función que normalice los valores de fuerza e inteligencia a una escala de 0 a 1, y luego crea un gráfico de radar para comparar estos atributos entre 3 superhéroes de tu elección."
   ]
  },
  {
   "cell_type": "code",
   "execution_count": null,
   "metadata": {
    "id": "0t2RPA-WBdfY"
   },
   "outputs": [],
   "source": []
  },
  {
   "cell_type": "markdown",
   "metadata": {
    "id": "f1bLL3WU_l6w"
   },
   "source": [
    "## 23. Realiza un análisis de series temporales basado en la columna 'First appearance'. Muestra cómo ha evolucionado la introducción de nuevos superhéroes a lo largo del tiempo."
   ]
  },
  {
   "cell_type": "code",
   "execution_count": null,
   "metadata": {
    "id": "gnlzEXzuBeEf"
   },
   "outputs": [],
   "source": []
  },
  {
   "cell_type": "markdown",
   "metadata": {
    "id": "OfN-324Y_m39"
   },
   "source": [
    "## 24. Crea un gráfico de burbujas que represente simultáneamente la altura (eje x), el peso (eje y), la fuerza (tamaño de la burbuja) y el género (color de la burbuja) de los superhéroes."
   ]
  },
  {
   "cell_type": "code",
   "execution_count": null,
   "metadata": {
    "id": "agGOOVWiBe8O"
   },
   "outputs": [],
   "source": []
  },
  {
   "cell_type": "markdown",
   "metadata": {
    "id": "9ecyDq-1_nup"
   },
   "source": [
    "## 25. Implementa una función que genere un \"perfil de superhéroe\" para cualquier nombre dado, mostrando todas sus características en un formato visualmente atractivo (puedes usar subplots de matplotlib para esto)"
   ]
  },
  {
   "cell_type": "code",
   "execution_count": null,
   "metadata": {
    "id": "SdOh8aLPBfh_"
   },
   "outputs": [],
   "source": []
  },
  {
   "cell_type": "code",
   "execution_count": null,
   "metadata": {
    "id": "6GjEFsyQnk2J"
   },
   "outputs": [],
   "source": []
  },
  {
   "cell_type": "code",
   "execution_count": null,
   "metadata": {
    "colab": {
     "base_uri": "https://localhost:8080/",
     "height": 579
    },
    "id": "y9n0fgJBnKWx",
    "outputId": "98a18d5d-4021-414c-a189-421f7fb840ce"
   },
   "outputs": [],
   "source": [
    "df"
   ]
  },
  {
   "cell_type": "code",
   "execution_count": null,
   "metadata": {
    "colab": {
     "base_uri": "https://localhost:8080/"
    },
    "id": "ivLXq1cqoMjS",
    "outputId": "a8b01921-1f5d-48fd-fdff-100137c7d924"
   },
   "outputs": [],
   "source": [
    "df.shape # filas, columnas"
   ]
  },
  {
   "cell_type": "code",
   "execution_count": null,
   "metadata": {
    "colab": {
     "base_uri": "https://localhost:8080/"
    },
    "id": "Hz4SaSbaoSxJ",
    "outputId": "55e0317d-0105-4243-a9f5-7bbe9dcead74"
   },
   "outputs": [],
   "source": [
    "df.columns"
   ]
  },
  {
   "cell_type": "code",
   "execution_count": null,
   "metadata": {
    "colab": {
     "base_uri": "https://localhost:8080/",
     "height": 115
    },
    "id": "qBIoodHjr_-R",
    "outputId": "3dbd2b15-8c32-4e2e-abaa-61216ff49b2b"
   },
   "outputs": [],
   "source": [
    "df[['Height']].mean() # Dataframe"
   ]
  },
  {
   "cell_type": "code",
   "execution_count": null,
   "metadata": {
    "colab": {
     "base_uri": "https://localhost:8080/"
    },
    "id": "uv09kKgfr8Cy",
    "outputId": "06c68743-abd7-4df9-ed62-88c65a2b6fdc"
   },
   "outputs": [],
   "source": [
    "df['Height'].mean() # Serie"
   ]
  },
  {
   "cell_type": "code",
   "execution_count": null,
   "metadata": {
    "colab": {
     "base_uri": "https://localhost:8080/"
    },
    "id": "iDQisFYOr5V6",
    "outputId": "0fb4126f-92e0-4033-8c2f-c3b14c4913f8"
   },
   "outputs": [],
   "source": [
    "df.Height.mean() # Serie - mean(), std(), sum(), min(), max(), count()"
   ]
  },
  {
   "cell_type": "code",
   "execution_count": null,
   "metadata": {
    "colab": {
     "base_uri": "https://localhost:8080/",
     "height": 300
    },
    "id": "QI66Ty5DrLmi",
    "outputId": "5dc86c3c-5697-4d5c-a006-e369af5cd339"
   },
   "outputs": [],
   "source": [
    "df.describe()"
   ]
  },
  {
   "cell_type": "code",
   "execution_count": null,
   "metadata": {
    "colab": {
     "base_uri": "https://localhost:8080/",
     "height": 143
    },
    "id": "DuEifu1buHVS",
    "outputId": "13f22951-3ccf-4285-abfe-200dec98a2ad"
   },
   "outputs": [],
   "source": [
    "df.groupby(['Gender'])[['Height', 'Weight', 'Strength']].mean()"
   ]
  },
  {
   "cell_type": "code",
   "execution_count": null,
   "metadata": {
    "id": "JJd4RljFv7Fb"
   },
   "outputs": [],
   "source": [
    "df.loc[ df['Eye color'] == 'blue', 'Eye color' ] = 'Blue'"
   ]
  },
  {
   "cell_type": "code",
   "execution_count": null,
   "metadata": {
    "colab": {
     "base_uri": "https://localhost:8080/",
     "height": 146
    },
    "id": "sf5EVf-Hu8Rb",
    "outputId": "96e546ce-da06-4553-fb22-46cc674688fc"
   },
   "outputs": [],
   "source": [
    "df[\"Eye color\"].value_counts().head(1) # ojo, la cantidad correcta es 225"
   ]
  },
  {
   "cell_type": "code",
   "execution_count": null,
   "metadata": {
    "colab": {
     "base_uri": "https://localhost:8080/",
     "height": 868
    },
    "id": "0_mbo-Dkwter",
    "outputId": "046281b7-1e01-4610-e1cf-8573f805b57e"
   },
   "outputs": [],
   "source": [
    "df['Publisher'].value_counts()"
   ]
  },
  {
   "cell_type": "code",
   "execution_count": null,
   "metadata": {
    "id": "IrwtVOQzxsSa"
   },
   "outputs": [],
   "source": [
    "df['IMC'] = df['Weight'] / (df['Height']/100)**2"
   ]
  },
  {
   "cell_type": "code",
   "execution_count": null,
   "metadata": {
    "colab": {
     "base_uri": "https://localhost:8080/",
     "height": 335
    },
    "id": "1dVlnjaIyGXq",
    "outputId": "f215b9ed-319d-4b03-a2ed-c5d3ec807acd"
   },
   "outputs": [],
   "source": [
    "df['IMC'].describe()"
   ]
  },
  {
   "cell_type": "code",
   "execution_count": null,
   "metadata": {
    "colab": {
     "base_uri": "https://localhost:8080/",
     "height": 241
    },
    "id": "V9fGT-I-2hXE",
    "outputId": "6f5b54b4-28f1-46f6-f230-b263926fb5c9"
   },
   "outputs": [],
   "source": [
    "df.isnull().sum().sort_values(ascending=False).head(5)"
   ]
  }
 ],
 "metadata": {
  "colab": {
   "provenance": []
  },
  "kernelspec": {
   "display_name": "Python 3 (ipykernel)",
   "language": "python",
   "name": "python3"
  },
  "language_info": {
   "codemirror_mode": {
    "name": "ipython",
    "version": 3
   },
   "file_extension": ".py",
   "mimetype": "text/x-python",
   "name": "python",
   "nbconvert_exporter": "python",
   "pygments_lexer": "ipython3",
   "version": "3.12.2"
  }
 },
 "nbformat": 4,
 "nbformat_minor": 4
}
